{
 "cells": [
  {
   "cell_type": "code",
   "execution_count": 0,
   "metadata": {
    "collapsed": false
   },
   "outputs": [
   ],
   "source": [
    "# Projektna naloga pri predmetu Financni praktikum\n",
    "\n",
    "# Naloga 19: Graffiti conjecture 232\n",
    "\n",
    "def predpostavka(G):\n",
    "    '''Funkcija, ki testira predpostavko Graffiti conjecture 232.'''\n",
    "    if G.is_connected() == False:\n",
    "        return('Graf ni povezan!')\n",
    "    B = set(G.periphery())\n",
    "    d = G.distance_all_pairs()\n",
    "    razdalja = []\n",
    "    for v in G:\n",
    "        if v not in B:\n",
    "            sezv = []\n",
    "            for u in B:\n",
    "                sezv.append(d[v][u])\n",
    "            razdalja.append(min(sezv))\n",
    "    razlika = 2 * G.dominating_set(total=True, value_only=True) - G.radius() - (max(razdalja) if razdalja else 0)\n",
    "    if razlika >= 0:\n",
    "        print('Razlika med levo in desno stranjo predpostavke je:')\n",
    "        print(razlika)\n",
    "        return('Predpostavka velja!')\n",
    "    else:\n",
    "        return('Predpostavka NE velja!')"
   ]
  },
  {
   "cell_type": "code",
   "execution_count": 0,
   "metadata": {
    "collapsed": false
   },
   "outputs": [
   ],
   "source": [
    "# VELIKE GRAFE GENERIRAMO Z:\n",
    "# graphs.RandomGNP(n, p) generira nakljucni preprost graf kjer je n stevilo vozlisc in p verjetnost povezave med dvema vozliscema\n",
    "G = graphs.RandomGNP(5, 0.4)"
   ]
  },
  {
   "cell_type": "code",
   "execution_count": 0,
   "metadata": {
    "collapsed": false
   },
   "outputs": [
   ],
   "source": [
    "G.show()"
   ]
  },
  {
   "cell_type": "code",
   "execution_count": 0,
   "metadata": {
    "collapsed": false
   },
   "outputs": [
   ],
   "source": [
    "# Spodaj so loceno izracunane vse vrednosti v predpostavki"
   ]
  },
  {
   "cell_type": "code",
   "execution_count": 0,
   "metadata": {
    "collapsed": false
   },
   "outputs": [
   ],
   "source": [
    "# total=True da bo total dominating set\n",
    "# value_only=True -> ker nas zanima samo vrednost in ne seznam vozlisc\n",
    "G.dominating_set(total=True, value_only=True)"
   ]
  },
  {
   "cell_type": "code",
   "execution_count": 0,
   "metadata": {
    "collapsed": false
   },
   "outputs": [
   ],
   "source": [
    "# radij grafa\n",
    "G.radius()"
   ]
  },
  {
   "cell_type": "code",
   "execution_count": 0,
   "metadata": {
    "collapsed": false
   },
   "outputs": [
   ],
   "source": [
    "# B je obrobje grafa\n",
    "B = set(G.periphery())\n",
    "d = G.distance_all_pairs()\n",
    "razdalja = []\n",
    "for v in G:\n",
    "    if v not in B:\n",
    "        sezv = []\n",
    "        for u in B:\n",
    "            sezv.append(d[v][u])\n",
    "        razdalja.append(min(sezv))\n",
    "# razdalja je ekscentricnost obrobja grafa B\n",
    "(max(razdalja) if razdalja else 0)"
   ]
  },
  {
   "cell_type": "code",
   "execution_count": 0,
   "metadata": {
    "collapsed": false
   },
   "outputs": [
   ],
   "source": [
    "# Preizkusimo funkcijo na zgornjem grafu:\n",
    "predpostavka(G)"
   ]
  },
  {
   "cell_type": "code",
   "execution_count": 0,
   "metadata": {
    "collapsed": false
   },
   "outputs": [
   ],
   "source": [
    "# GENERIRANJE MAJHNIH GRAFOV\n",
    "# ker grafe generiras z nauty_geng so vsi preprosti (tako pise v dokumentaciji)\n",
    "seznam = [G for G in graphs.nauty_geng('3 -c')] # povezani grafi na \"n\" vozliscih, \"-c\" pomeni da so grafi povezani"
   ]
  },
  {
   "cell_type": "code",
   "execution_count": 0,
   "metadata": {
    "collapsed": false
   },
   "outputs": [
   ],
   "source": [
    "protiprimeri = []\n",
    "for graf in seznam:\n",
    "    if predpostavka(graf) == 'Predpostavka NE velja!':\n",
    "        graf.show()\n",
    "        protiprimeri.append(graf)"
   ]
  },
  {
   "cell_type": "code",
   "execution_count": 0,
   "metadata": {
    "collapsed": false
   },
   "outputs": [
   ],
   "source": [
    "# Ali obstaja protiprimer?\n",
    "protiprimeri"
   ]
  },
  {
   "cell_type": "code",
   "execution_count": 0,
   "metadata": {
    "collapsed": false
   },
   "outputs": [
   ],
   "source": [
   ]
  }
 ],
 "metadata": {
  "kernelspec": {
   "display_name": "SageMath (stable)",
   "language": "sagemath",
   "metadata": {
    "cocalc": {
     "description": "Open-source mathematical software system",
     "priority": 10,
     "url": "https://www.sagemath.org/"
    }
   },
   "name": "sagemath"
  },
  "language_info": {
   "codemirror_mode": {
    "name": "ipython",
    "version": 2
   },
   "file_extension": ".py",
   "mimetype": "text/x-python",
   "name": "python",
   "nbconvert_exporter": "python",
   "pygments_lexer": "ipython2",
   "version": "2.7.15"
  }
 },
 "nbformat": 4,
 "nbformat_minor": 0
}