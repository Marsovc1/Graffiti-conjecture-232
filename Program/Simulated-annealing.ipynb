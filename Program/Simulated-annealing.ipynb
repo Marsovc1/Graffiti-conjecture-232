{
 "cells": [
  {
   "cell_type": "code",
   "execution_count": 17,
   "metadata": {},
   "outputs": [],
   "source": [
    "def domneva(G):\n",
    "    if G.is_connected() == False:\n",
    "        return None\n",
    "    B = set(G.periphery())\n",
    "    d = G.distance_all_pairs()\n",
    "    razdalja = []\n",
    "    for v in G:\n",
    "        if v not in B:\n",
    "            sezv = []\n",
    "            for u in B:\n",
    "                sezv.append(d[v][u])\n",
    "            razdalja.append(min(sezv))\n",
    "    razlika = 2 * G.dominating_set(total=True, value_only=True) - G.radius() - (max(razdalja) if razdalja else 0)\n",
    "    if razlika < 0:\n",
    "        return False\n",
    "    else: return razlika"
   ]
  },
  {
   "cell_type": "code",
   "execution_count": null,
   "metadata": {},
   "outputs": [
    {
     "name": "stdout",
     "output_type": "stream",
     "text": [
      "2020-01-13 11:16:16.501807\n"
     ]
    }
   ],
   "source": [
    "import datetime\n",
    "print(datetime.datetime.now())\n",
    "\n",
    "\n",
    "def simulacija():\n",
    "    rez = 100\n",
    "    G = graphs.RandomGNP(100,0.4)\n",
    "    k = 0\n",
    "    while k < 500: #število korakov od k=0 do k=499\n",
    "        if G.is_connected()== False:\n",
    "            k+=1\n",
    "            \n",
    "        v1 = choice(list(range(n))) #naključni vozlišči v1, v2\n",
    "        v2 = choice(list(range(n)))\n",
    "        \n",
    "        if v1 != v2:\n",
    "            if v2 not in G.edges()[v1]:\n",
    "                G.add_edge(v1,v2)\n",
    "                razlika = domneva(G)\n",
    "                if razlika == False:\n",
    "                    return [G,razlika]\n",
    "                elif razlika <= rez:\n",
    "                    rez = razlika\n",
    "                    k+=1\n",
    "                else:\n",
    "                    G.add_edge(v1,v2)\n",
    "                    k+=1\n",
    "            else:\n",
    "                G.delete_edge(v1,v2)\n",
    "                razlika = domneva(G)\n",
    "                if razlika == None:\n",
    "                    k+=1\n",
    "                elif razlika == False:\n",
    "                    return [G,razlika]\n",
    "                elif razlika <= rez:\n",
    "                    rez = razlika\n",
    "                    k+=1\n",
    "                else:\n",
    "                    G.add_edge(v1,v2)\n",
    "                    k+=1\n",
    "        else:\n",
    "            k+=1\n",
    "    return [G,rez]\n",
    "G,rez = simulacija()   \n",
    "print(datetime.datetime.now())"
   ]
  }
 ],
 "metadata": {
  "kernelspec": {
   "display_name": "SageMath 9.0",
   "language": "sage",
   "name": "sagemath"
  },
  "language_info": {
   "codemirror_mode": {
    "name": "ipython",
    "version": 3
   },
   "file_extension": ".py",
   "mimetype": "text/x-python",
   "name": "python",
   "nbconvert_exporter": "python",
   "pygments_lexer": "ipython3",
   "version": "3.7.3"
  }
 },
 "nbformat": 4,
 "nbformat_minor": 1
}
