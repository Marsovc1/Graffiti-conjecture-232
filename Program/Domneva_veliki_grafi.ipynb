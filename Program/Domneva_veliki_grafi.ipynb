{
 "cells": [
  {
   "cell_type": "code",
   "execution_count": 3,
   "metadata": {},
   "outputs": [],
   "source": [
    "def predpostavka_veliki(G):\n",
    "    if G.is_connected() == False:\n",
    "        return None\n",
    "    B = set(G.periphery())\n",
    "    d = G.distance_all_pairs()\n",
    "    razdalja = []\n",
    "    for v in G:\n",
    "        if v not in B:\n",
    "            sezv = []\n",
    "            for u in B:\n",
    "                sezv.append(d[v][u])\n",
    "            razdalja.append(min(sezv))\n",
    "    razlika = 2 * G.dominating_set(total=True, value_only=True) - G.radius() - (max(razdalja) if razdalja else 0)\n",
    "    if razlika < 0:\n",
    "        return False\n",
    "    else: return razlika"
   ]
  },
  {
   "cell_type": "code",
   "execution_count": null,
   "metadata": {},
   "outputs": [
    {
     "name": "stdout",
     "output_type": "stream",
     "text": [
      "2020-01-11 11:40:43.486889\n"
     ]
    }
   ],
   "source": [
    "import datetime\n",
    "print(datetime.datetime.now())\n",
    "\n",
    "razlika50 = []\n",
    "razlika75 = []\n",
    "razlika100 = []\n",
    "\n",
    "st_preverjanj = 1000\n",
    "\n",
    "razlika = 10000\n",
    "protiprimer = []\n",
    "mala_razlika = []\n",
    "\n",
    "for i in [50,75,100]:\n",
    "    for j in [0.33,0.5,0.66]:\n",
    "        for k in range(st_preverjanj):\n",
    "            G1 = graphs.RandomGNP(i,j)\n",
    "            vrednost = domneva_veliki(G1)\n",
    "            if vrednost == False:\n",
    "                protiprimer.append(G1)\n",
    "            elif vrednost == 0:\n",
    "                if i == 50:\n",
    "                    razlika50.append(G1)\n",
    "                elif i == 75:\n",
    "                    razlika75.append(G1)\n",
    "                else:\n",
    "                    razlika100.append(G1)\n",
    "            if vrednost < razlika:\n",
    "                razlika = vrednost\n",
    "                if razlika <= 2:\n",
    "                    mala_razlika.append(G1)\n",
    "\n",
    "print(datetime.datetime.now())"
   ]
  },
  {
   "cell_type": "code",
   "execution_count": null,
   "metadata": {},
   "outputs": [],
   "source": []
  }
 ],
 "metadata": {
  "kernelspec": {
   "display_name": "SageMath 9.0",
   "language": "sage",
   "name": "sagemath"
  },
  "language_info": {
   "codemirror_mode": {
    "name": "ipython",
    "version": 3
   },
   "file_extension": ".py",
   "mimetype": "text/x-python",
   "name": "python",
   "nbconvert_exporter": "python",
   "pygments_lexer": "ipython3",
   "version": "3.7.3"
  }
 },
 "nbformat": 4,
 "nbformat_minor": 1
}
