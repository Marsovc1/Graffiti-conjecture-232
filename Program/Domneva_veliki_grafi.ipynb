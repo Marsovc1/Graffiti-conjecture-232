{
 "cells": [
  {
   "cell_type": "code",
   "execution_count": 1,
   "metadata": {
    "collapsed": false
   },
   "outputs": [
   ],
   "source": [
    "def predpostavka_veliki(G):\n",
    "    if G.is_connected() == False:\n",
    "        return None\n",
    "    B = set(G.periphery())\n",
    "    d = G.distance_all_pairs()\n",
    "    razdalja = []\n",
    "    for v in G:\n",
    "        if v not in B:\n",
    "            sezv = []\n",
    "            for u in B:\n",
    "                sezv.append(d[v][u])\n",
    "            razdalja.append(min(sezv))\n",
    "    razlika = 2 * G.dominating_set(total=True, value_only=True) - G.radius() - (max(razdalja) if razdalja else 0)\n",
    "    if razlika < 0:\n",
    "        return False\n",
    "    else: return razlika"
   ]
  },
  {
   "cell_type": "code",
   "execution_count": 0,
   "metadata": {
    "collapsed": false
   },
   "outputs": [
   ],
   "source": [
    "import datetime\n",
    "print(datetime.datetime.now())\n",
    "\n",
    "razlika50 = []\n",
    "razlika75 = []\n",
    "razlika100 = []\n",
    "\n",
    "st_preverjanj = 1000\n",
    "\n",
    "razlika = 10000\n",
    "protiprimer = []\n",
    "\n",
    "for i in [50,75,100]:\n",
    "    for j in range(st_preverjanj):\n",
    "        G1 = graphs.RandomGNP(i,0.33)\n",
    "        vrednost = predpostavka_veliki(G1)\n",
    "        if vrednost == False:\n",
    "            protiprimer.append(G1)\n",
    "        elif vrednost == 0:\n",
    "            if i == 50:\n",
    "                razlika50.append(G1)\n",
    "            elif i == 75:\n",
    "                razlika75.append(G1)\n",
    "            else:\n",
    "                razlika100.append(G1)\n",
    "        if vrednost < razlika:\n",
    "            razlika = vrednost\n",
    "\n",
    "for i in [50,75,100]:\n",
    "    for j in range(st_preverjanj):\n",
    "        G1 = graphs.RandomGNP(i,0.5)\n",
    "        vrednost = predpostavka_veliki(G1)\n",
    "        if vrednost == False:\n",
    "            protiprimer.append(G1)\n",
    "        elif vrednost == 0:\n",
    "            if i == 50:\n",
    "                razlika50.append(G1)\n",
    "            elif i == 75:\n",
    "                razlika75.append(G1)\n",
    "            else:\n",
    "                razlika100.append(G1)\n",
    "        if vrednost < razlika:\n",
    "            razlika = vrednost\n",
    "\n",
    "for i in [50,75,100]:\n",
    "    for j in range(st_preverjanj):\n",
    "        G1 = graphs.RandomGNP(i,0.66)\n",
    "        vrednost = predpostavka_veliki(G1)\n",
    "        if vrednost == False:\n",
    "            protiprimer.append(G1)\n",
    "        elif vrednost == 0:\n",
    "            if i == 50:\n",
    "                razlika50.append(G1)\n",
    "            elif i == 75:\n",
    "                razlika75.append(G1)\n",
    "            else:\n",
    "                razlika100.append(G1)\n",
    "        if vrednost < razlika:\n",
    "            razlika = vrednost\n",
    "\n",
    "print(datetime.datetime.now())"
   ]
  }
 ],
 "metadata": {
  "kernelspec": {
   "display_name": "Python 3 (system-wide)",
   "language": "python",
   "metadata": {
    "cocalc": {
     "description": "Python 3 programming language",
     "priority": 100,
     "url": "https://www.python.org/"
    }
   },
   "name": "python3"
  },
  "language_info": {
   "codemirror_mode": {
    "name": "ipython",
    "version": 3
   },
   "file_extension": ".py",
   "mimetype": "text/x-python",
   "name": "python",
   "nbconvert_exporter": "python",
   "pygments_lexer": "ipython3",
   "version": "3.6.9"
  }
 },
 "nbformat": 4,
 "nbformat_minor": 0
}