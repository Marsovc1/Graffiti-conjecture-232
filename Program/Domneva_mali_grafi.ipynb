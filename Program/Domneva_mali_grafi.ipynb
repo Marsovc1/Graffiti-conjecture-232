{
 "cells": [
  {
   "cell_type": "code",
   "execution_count": 0,
   "metadata": {},
   "outputs": [],
   "source": [
    "# Projektna naloga pri predmetu Financni praktikum\n",
    "\n",
    "# Naloga 19: Graffiti conjecture 232\n",
    "\n",
    "def domneva(G):\n",
    "    '''Funkcija, ki testira domneva Graffiti conjecture 232.'''\n",
    "    if G.is_connected() == False:\n",
    "        return('Graf ni povezan!')\n",
    "    B = set(G.periphery())\n",
    "    d = G.distance_all_pairs()\n",
    "    razdalja = []\n",
    "    for v in G:\n",
    "        if v not in B:\n",
    "            sezv = []\n",
    "            for u in B:\n",
    "                sezv.append(d[v][u])\n",
    "            razdalja.append(min(sezv))\n",
    "    razlika = 2 * G.dominating_set(total=True, value_only=True) - G.radius() - (max(razdalja) if razdalja else 0)\n",
    "    if razlika >= 0:\n",
    "        print('Razlika med levo in desno stranjo domneve je:')\n",
    "        print(razlika)\n",
    "        return('Domneva velja!')\n",
    "    else:\n",
    "        return('Domneva NE velja!')"
   ]
  },
  {
   "cell_type": "code",
   "execution_count": null,
   "metadata": {},
   "outputs": [],
   "source": [
    "# V naslednjih nekaj celicah bomo preverili posamezne dele programa"
   ]
  },
  {
   "cell_type": "code",
   "execution_count": 0,
   "metadata": {},
   "outputs": [],
   "source": [
    "# total = True da bo total dominating set\n",
    "# value_only = True -> ker nas zanima samo vrednost in ne seznam vozlisc\n",
    "G.dominating_set(total=True, value_only=True)"
   ]
  },
  {
   "cell_type": "code",
   "execution_count": 0,
   "metadata": {},
   "outputs": [],
   "source": [
    "# radij grafa\n",
    "G.radius()"
   ]
  },
  {
   "cell_type": "code",
   "execution_count": 0,
   "metadata": {},
   "outputs": [],
   "source": [
    "# B je obrobje grafa\n",
    "B = set(G.periphery())\n",
    "d = G.distance_all_pairs()\n",
    "razdalja = []\n",
    "for v in G:\n",
    "    if v not in B:\n",
    "        sezv = []\n",
    "        for u in B:\n",
    "            sezv.append(d[v][u])\n",
    "        razdalja.append(min(sezv))\n",
    "        \n",
    "# razdalja je ekscentricnost obrobja grafa G\n",
    "\n",
    "(max(razdalja) if razdalja else 0)"
   ]
  },
  {
   "cell_type": "code",
   "execution_count": 0,
   "metadata": {},
   "outputs": [],
   "source": [
    "# Preizkusimo funkcijo na zgornjem grafu:\n",
    "domneva(G)"
   ]
  },
  {
   "cell_type": "code",
   "execution_count": 0,
   "metadata": {},
   "outputs": [],
   "source": [
    "# GENERIRANJE MAJHNIH GRAFOV\n",
    "# ker grafe generiras z nauty_geng so vsi preprosti (tako pise v dokumentaciji)\n",
    "seznam = [G for G in graphs.nauty_geng('3 -c')] # povezani grafi na \"n\" vozliscih, \"-c\" pomeni da so grafi povezani"
   ]
  },
  {
   "cell_type": "code",
   "execution_count": 0,
   "metadata": {},
   "outputs": [],
   "source": [
    "protiprimeri = []\n",
    "for graf in seznam:\n",
    "    if domneva(graf) == 'Domneva NE velja!':\n",
    "        graf.show()\n",
    "        protiprimeri.append(graf)"
   ]
  },
  {
   "cell_type": "code",
   "execution_count": 0,
   "metadata": {},
   "outputs": [],
   "source": [
    "# Ali obstaja protiprimer?\n",
    "protiprimeri"
   ]
  },
  {
   "cell_type": "code",
   "execution_count": 0,
   "metadata": {},
   "outputs": [],
   "source": []
  }
 ],
 "metadata": {
  "kernelspec": {
   "display_name": "SageMath 9.0",
   "language": "sage",
   "name": "sagemath"
  },
  "language_info": {
   "codemirror_mode": {
    "name": "ipython",
    "version": 3
   },
   "file_extension": ".py",
   "mimetype": "text/x-python",
   "name": "python",
   "nbconvert_exporter": "python",
   "pygments_lexer": "ipython3",
   "version": "3.7.3"
  }
 },
 "nbformat": 4,
 "nbformat_minor": 1
}
